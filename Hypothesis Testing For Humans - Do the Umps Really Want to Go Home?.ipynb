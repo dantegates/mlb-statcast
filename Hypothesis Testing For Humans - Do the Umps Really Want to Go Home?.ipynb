{
 "cells": [
  {
   "cell_type": "markdown",
   "metadata": {},
   "source": [
    "# Hypothesis testing for humans: Do the Umps Really Want to Go Home?\n",
    "\n",
    "In this post we'll discuss and apply two techniques for hypothesis testing beyond the typical approach presented in most introductory statistics courses within the context of Major League Baseball.\n",
    "\n",
    "If any of these buzzwords interest you, keep reading.\n",
    "\n",
    "- Monte Carlo\n",
    "- Bayesian Inference\n",
    "- pymc3\n",
    "- A/B tests\n",
    "- Major League Baseball\n",
    "- Statcast data"
   ]
  },
  {
   "cell_type": "markdown",
   "metadata": {},
   "source": [
    "# Hypothesis testing for humans\n",
    "\n",
    "Hypothesis testing methods such as the [z-test](https://en.wikipedia.org/wiki/Z-test) and [t-test](https://en.wikipedia.org/wiki/Student%27s_t-test) are ubiquitous in introductory statistics courses. I would wager that nearly all STEM majors have seen this approach at one time or another and that many students of other disciplines such as psychology, sociology, etc. have also been exposed to this kind of hypothesis testing.\n",
    "\n",
    "However these classic methods are not the only tools at our disposal. In this post we'll deomonstrate how to use [resampling](https://en.wikipedia.org/wiki/Resampling_(statistics) and [bayesian inference](https://en.wikipedia.org/wiki/Bayesian_inference#Probability_of_a_hypothesis) for hypothesis testing. For a discussion of why you might prefer to use one of the methods discussed in this post over the traditional methods see the summary below."
   ]
  },
  {
   "cell_type": "markdown",
   "metadata": {},
   "source": [
    "# Do the umps really want to go home?\n",
    "\n",
    "Now that we've established the methods we want to demonstrate let's consider the problem at hand.\n",
    "\n",
    "Ealier this year in April FiveThirtyEight put out an article titled [Everyone Wants To Go Home During Extra Innings — Maybe Even The Umps](https://fivethirtyeight.com/features/everyone-wants-to-go-home-during-extra-innings-maybe-even-the-umps/). The article suggests that umpires are more likely to mis-call balls/strikes in situations could help end a game that has gone into extra innings. In particular the article questions the following scenarios occuring in the bottom of an extra inning\n",
    "\n",
    "1. The away team holds the lead and a pitch that was actually a ball is called a strike (thus limiting the opportunity for the home team to tie the away team's score and prolong the game).\n",
    "2. A pitch that was actually a strike is called a ball when the home team has runners on base (thus extending the opportunity for the home team to score a [walk-off](https://en.wikipedia.org/wiki/Walk-off_home_run) hit).\n",
    "\n",
    "The article has some nice graphics which show the percent increase of incorrect calls could have helped to \"accelerate\" a game in extra innings from 2008-2016.\n",
    "\n",
    "In this post we'll run with the gist of this article and perform hypothesis tests that address whether umpires incorrectly call more pitches strikes when it helps accelerate the away team leaving with a victory in the 2018 season."
   ]
  },
  {
   "cell_type": "markdown",
   "metadata": {},
   "source": [
    "# The data\n",
    "\n",
    "Before going any further let's take a quick look at the data.\n",
    "\n",
    "I used [pybaseball](https://github.com/jldbc/pybaseball) to acquire the data for this post. You can find the entire data pull [HERE - FIX LINK](). The data set consists of the total number of incorrect called strikes for the bottom of each extra inning in the 2018 season and whether the away team was holding onto the lead.\n",
    "\n",
    "Let's read in the data and plot the observations."
   ]
  },
  {
   "cell_type": "code",
   "execution_count": 1,
   "metadata": {},
   "outputs": [
    {
     "data": {
      "text/html": [
       "<div>\n",
       "<style scoped>\n",
       "    .dataframe tbody tr th:only-of-type {\n",
       "        vertical-align: middle;\n",
       "    }\n",
       "\n",
       "    .dataframe tbody tr th {\n",
       "        vertical-align: top;\n",
       "    }\n",
       "\n",
       "    .dataframe thead th {\n",
       "        text-align: right;\n",
       "    }\n",
       "</style>\n",
       "<table border=\"1\" class=\"dataframe\">\n",
       "  <thead>\n",
       "    <tr style=\"text-align: right;\">\n",
       "      <th></th>\n",
       "      <th>game_pk</th>\n",
       "      <th>inning</th>\n",
       "      <th>away_team_advantage</th>\n",
       "      <th>strike_call_incorrect</th>\n",
       "    </tr>\n",
       "  </thead>\n",
       "  <tbody>\n",
       "    <tr>\n",
       "      <th>0</th>\n",
       "      <td>529412.0</td>\n",
       "      <td>10.0</td>\n",
       "      <td>0</td>\n",
       "      <td>0</td>\n",
       "    </tr>\n",
       "    <tr>\n",
       "      <th>1</th>\n",
       "      <td>529412.0</td>\n",
       "      <td>11.0</td>\n",
       "      <td>0</td>\n",
       "      <td>1</td>\n",
       "    </tr>\n",
       "    <tr>\n",
       "      <th>2</th>\n",
       "      <td>529413.0</td>\n",
       "      <td>10.0</td>\n",
       "      <td>0</td>\n",
       "      <td>0</td>\n",
       "    </tr>\n",
       "    <tr>\n",
       "      <th>3</th>\n",
       "      <td>529413.0</td>\n",
       "      <td>11.0</td>\n",
       "      <td>0</td>\n",
       "      <td>0</td>\n",
       "    </tr>\n",
       "    <tr>\n",
       "      <th>4</th>\n",
       "      <td>529413.0</td>\n",
       "      <td>12.0</td>\n",
       "      <td>1</td>\n",
       "      <td>0</td>\n",
       "    </tr>\n",
       "  </tbody>\n",
       "</table>\n",
       "</div>"
      ],
      "text/plain": [
       "    game_pk  inning  away_team_advantage  strike_call_incorrect\n",
       "0  529412.0    10.0                    0                      0\n",
       "1  529412.0    11.0                    0                      1\n",
       "2  529413.0    10.0                    0                      0\n",
       "3  529413.0    11.0                    0                      0\n",
       "4  529413.0    12.0                    1                      0"
      ]
     },
     "execution_count": 1,
     "metadata": {},
     "output_type": "execute_result"
    }
   ],
   "source": [
    "import pandas as pd\n",
    "data = pd.read_csv('hypothesis_testing_for_humans.csv')\n",
    "data.head()"
   ]
  },
  {
   "cell_type": "code",
   "execution_count": 2,
   "metadata": {},
   "outputs": [
    {
     "data": {
      "text/plain": [
       "(428, 4)"
      ]
     },
     "execution_count": 2,
     "metadata": {},
     "output_type": "execute_result"
    }
   ],
   "source": [
    "data.shape"
   ]
  },
  {
   "cell_type": "code",
   "execution_count": 3,
   "metadata": {},
   "outputs": [
    {
     "name": "stdout",
     "output_type": "stream",
     "text": [
      "len(observations1) = 317 len(observations2) = 111\n",
      "mean(observations1) = 0.27129337539432175 mean(observations2) = 0.2882882882882883\n"
     ]
    },
    {
     "data": {
      "image/png": "[encoded data removed]",
      "text/plain": [
       "<matplotlib.figure.Figure at 0x10fff6048>"
      ]
     },
     "metadata": {},
     "output_type": "display_data"
    }
   ],
   "source": [
    "import matplotlib.pyplot as plt\n",
    "observations_all = data.strike_call_incorrect\n",
    "observations1 = data[data.away_team_advantage == 0].strike_call_incorrect\n",
    "observations2 = data[data.away_team_advantage == 1].strike_call_incorrect\n",
    "print('len(observations1) =', len(observations1), 'len(observations2) =', len(observations2))\n",
    "print('mean(observations1) =', observations1.mean(), 'mean(observations2) =', observations2.mean())\n",
    "_ = plt.hist(observations1)\n",
    "_ = plt.hist(observations2)"
   ]
  },
  {
   "cell_type": "markdown",
   "metadata": {},
   "source": [
    "The distributions look roughly the same, but looks can be deceiving. The mean balls called strikes is larger when the away team leads, so maybe the FiveThirtyEight article is on to something. Let's move on to the hypothesis tests. At this point if you are more interested in one method over another go ahead and skip to that section."
   ]
  },
  {
   "cell_type": "markdown",
   "metadata": {},
   "source": [
    "# Resampling\n",
    "\n",
    "You can find a decent outline of what resampling is [here](https://en.wikipedia.org/wiki/Resampling_(statistics). The approach is very simple, and as I said above, very intuitive, so we won't go into to much detail here.\n",
    "\n",
    "The basic idea here is to\n",
    "\n",
    "1. Record the difference of the observed means of both distributions, $x_{1}, x_{2}$.\n",
    "2. Perform a monte carlo experiment as follows. For a given number of iterations \"shuffle\" *all* observations together and split the shuffled list into two distributions each one with a size corresponding to the observed distributions. At each iteration record the difference of the means of these distributions.\n",
    "3. After the simulation is complete the observed mean difference is compared to the distribution of simulated mean differences. An observed mean difference is less than the least 2.5% of the simulated values or greater than the largest 2.5% of the simulated values indicates that umpires are incorrectly calling strikes more often in situations that would hasten the end of the game.\n",
    "\n",
    "Let's take note of the observed mean difference."
   ]
  },
  {
   "cell_type": "code",
   "execution_count": 4,
   "metadata": {},
   "outputs": [
    {
     "data": {
      "text/plain": [
       "-0.01699491289396654"
      ]
     },
     "execution_count": 4,
     "metadata": {},
     "output_type": "execute_result"
    }
   ],
   "source": [
    "observed_mean_diff = observations1.mean() - observations2.mean()\n",
    "observed_mean_diff"
   ]
  },
  {
   "cell_type": "markdown",
   "metadata": {},
   "source": [
    "Now we'll perform the monte carlo experiment."
   ]
  },
  {
   "cell_type": "code",
   "execution_count": 5,
   "metadata": {},
   "outputs": [],
   "source": [
    "import numpy as np\n",
    "\n",
    "n = len(observations_all)\n",
    "n1, n2 = len(observations1), len(observations2)\n",
    "deltas = []\n",
    "for _ in range(50_000):\n",
    "    indices = np.random.choice(n, size=n, replace=False)\n",
    "    idx1, idx2 = indices[:n1], indices[n1:]\n",
    "    x1 = observations_all[idx1]\n",
    "    x2 = observations_all[idx2]\n",
    "    deltas.append(x1.mean() - x2.mean())\n",
    "deltas = np.array(deltas)"
   ]
  },
  {
   "cell_type": "markdown",
   "metadata": {},
   "source": [
    "A plot shows the simulated values are roughly normal and centered close to 0. It also shows that our observed mean difference is well within the 95% range, which fails to indicate that umpires are calling strikes differently to end the game more quickly."
   ]
  },
  {
   "cell_type": "code",
   "execution_count": 6,
   "metadata": {},
   "outputs": [
    {
     "data": {
      "image/png": "[encoded data removed]",
      "text/plain": [
       "<matplotlib.figure.Figure at 0x1100290f0>"
      ]
     },
     "metadata": {},
     "output_type": "display_data"
    }
   ],
   "source": [
    "import matplotlib.pyplot as plt\n",
    "_ = plt.hist(deltas, bins=50)\n",
    "_ = plt.gca().axvline(observed_mean_diff, color='r')"
   ]
  },
  {
   "cell_type": "markdown",
   "metadata": {},
   "source": [
    "Lastly we can verify this numerically."
   ]
  },
  {
   "cell_type": "code",
   "execution_count": 7,
   "metadata": {},
   "outputs": [],
   "source": [
    "deltas.sort()\n",
    "idx1 = np.argwhere(deltas <= observed_mean_diff).max()\n",
    "idx2 = np.argwhere(deltas >= observed_mean_diff).min()\n",
    "assert idx1 / len(deltas) > 0.025\n",
    "assert idx2 / len(deltas) < 0.975"
   ]
  },
  {
   "cell_type": "markdown",
   "metadata": {},
   "source": [
    "# Bayesian Inference\n",
    "\n",
    "We will now use Bayesian Inference to test whether umpires are more likely to incorrectly call a strike when the away team leads in the bottom of an extra inning. This approach can be outlined roughly as follows\n",
    "\n",
    "- First the problem is described as a probabalistic model. In our case the distribution of incorrect strike calls when the away team leads and when the game is tied will each be modelled as individual Poisson distributions. Each distribution has its own prior on the value of the parameter `mu` but each prior distribution has the same parameters.\n",
    "- Next, we use `pymc3` to obtain a posterior distributions of the model parameters.\n",
    "- Lastly, using estimates of the model parameters obtained from the posterior we simulate the differences of the two distributions, similar to above."
   ]
  },
  {
   "cell_type": "code",
   "execution_count": 64,
   "metadata": {
    "scrolled": true
   },
   "outputs": [
    {
     "name": "stderr",
     "output_type": "stream",
     "text": [
      "Auto-assigning NUTS sampler...\n",
      "Initializing NUTS using jitter+adapt_diag...\n",
      "Multiprocess sampling (2 chains in 2 jobs)\n",
      "NUTS: [mu]\n",
      "Sampling 2 chains: 100%|██████████| 11000/11000 [00:04<00:00, 2333.91draws/s]\n"
     ]
    }
   ],
   "source": [
    "import pymc3 as pm\n",
    "\n",
    "with pm.Model() as model:\n",
    "    mu = pm.Uniform('mu', 0, 5, shape=2)\n",
    "    tie_game = pm.Poisson('tie_game', mu[0], observed=observations1)\n",
    "    away_team_leads = pm.Poisson('away_team_leads', mu[1], observed=observations2)\n",
    "    trace = pm.sample(5000)"
   ]
  },
  {
   "cell_type": "markdown",
   "metadata": {},
   "source": [
    "The trace shows that the sampling process converged."
   ]
  },
  {
   "cell_type": "code",
   "execution_count": 65,
   "metadata": {},
   "outputs": [
    {
     "data": {
      "text/plain": [
       "array([[<matplotlib.axes._subplots.AxesSubplot object at 0x11e0621d0>,\n",
       "        <matplotlib.axes._subplots.AxesSubplot object at 0x11d073be0>]],\n",
       "      dtype=object)"
      ]
     },
     "execution_count": 65,
     "metadata": {},
     "output_type": "execute_result"
    },
    {
     "data": {
      "image/png": "[encoded data removed]",
      "text/plain": [
       "<matplotlib.figure.Figure at 0x11e062898>"
      ]
     },
     "metadata": {},
     "output_type": "display_data"
    }
   ],
   "source": [
    "pm.plots.traceplot(trace[-500:])"
   ]
  },
  {
   "cell_type": "markdown",
   "metadata": {},
   "source": [
    "We can now observe the mean balls called strikes per inning by sampling from the posterior. We find that both distributions seem to be centered around the same value and the distribution for when the away team has a higher variance as we have less data for that case and thus there is more uncertainty in our parameter estimates."
   ]
  },
  {
   "cell_type": "code",
   "execution_count": 66,
   "metadata": {},
   "outputs": [
    {
     "name": "stderr",
     "output_type": "stream",
     "text": [
      "100%|██████████| 500/500 [00:00<00:00, 1189.95it/s]\n"
     ]
    },
    {
     "data": {
      "image/png": "[encoded data removed]",
      "text/plain": [
       "<matplotlib.figure.Figure at 0x11a0bd9b0>"
      ]
     },
     "metadata": {},
     "output_type": "display_data"
    }
   ],
   "source": [
    "ppc = pm.sample_ppc(trace[-500:], model=model)\n",
    "mu1 = ppc['tie_game'].mean(axis=1)\n",
    "mu2 = ppc['away_team_leads'].mean(axis=1)\n",
    "_ = plt.hist(mu1, color='b', alpha=0.5)\n",
    "_ = plt.hist(mu2, color='r', alpha=0.5)"
   ]
  },
  {
   "cell_type": "markdown",
   "metadata": {},
   "source": [
    "Lastly according to our posterior distribution we find that about 40% of the time we would expect the mean balls called strikes to be higher when the away team leads than when the game is tied. Thus we fail to conclude that the data shows the umpires are trying to hurry up the game."
   ]
  },
  {
   "cell_type": "code",
   "execution_count": 58,
   "metadata": {},
   "outputs": [
    {
     "data": {
      "text/plain": [
       "0.402"
      ]
     },
     "execution_count": 58,
     "metadata": {},
     "output_type": "execute_result"
    }
   ],
   "source": [
    "(mu1 > mu2).sum() / len(mu1)"
   ]
  },
  {
   "cell_type": "markdown",
   "metadata": {},
   "source": [
    "# Summary"
   ]
  },
  {
   "cell_type": "markdown",
   "metadata": {},
   "source": [
    "It seems umpires are off the hook, at least from our (purposely) simple tests.\n",
    "\n",
    "However, you may be wondering why or when to use resampling or bayesian inference of $z$ or $t$ tests.\n",
    "\n",
    "It should be noted that each hypothesis testing methods available has its own long line of criticisms that the practitioner should be aware of. This is a large topic that is well documented so I won't go in to many details here. Instead I'll simply give two critera I personally consider in choosing a method to use for hypothesis testing.\n",
    "\n",
    "*Resampling*, in my opinion, shines because it feels much more intuitive than traditional methods like the $z$ test. As Jake Vanderplas [has said](https://www.youtube.com/watch?v=Iq9DzN6mvYA) \"if you can write a for loop you can do statistics\". With resampling there is no need to remember the difference between $z,t$ or $\\chi^{2}$ or to search through tables. The data you have at hand is all you need and if you want to quickly test a hypothesis you can simply sample and simulate. As seen above the code feels very natural and I was able to write the simulation without having to consult references. This is a big benefit for productivity and the ability to explain your results to a variety of audiences.\n",
    "\n",
    "The advantage of using Bayesian Inference is that the posterior probability usually addresses the question we are asking with an answer closest to what we are looking for. For more details on this point [this paper](http://www.stat.columbia.edu/~gelman/research/published/pvalues3.pdf) by Andrew Gelman and [this series of blog posts](http://jakevdp.github.io/blog/2014/03/11/frequentism-and-bayesianism-a-practical-intro/) by Jake Vanderplas are excellent resources."
   ]
  }
 ],
 "metadata": {
  "kernelspec": {
   "display_name": "Python 3",
   "language": "python",
   "name": "python3"
  },
  "language_info": {
   "codemirror_mode": {
    "name": "ipython",
    "version": 3
   },
   "file_extension": ".py",
   "mimetype": "text/x-python",
   "name": "python",
   "nbconvert_exporter": "python",
   "pygments_lexer": "ipython3",
   "version": "3.6.2"
  }
 },
 "nbformat": 4,
 "nbformat_minor": 2
}
